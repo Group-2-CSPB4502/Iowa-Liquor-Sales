{
 "cells": [
  {
   "cell_type": "markdown",
   "id": "bbdddf70-c14a-4600-8bb4-7c885446db8d",
   "metadata": {},
   "source": [
    "# Iowa Liquor Sales Functions and Graphs"
   ]
  },
  {
   "cell_type": "markdown",
   "id": "a83e4f07-165f-4045-ab6b-777e8068780b",
   "metadata": {},
   "source": [
    "Below we have functions to analyze data regarding the purchase of spirits in the state of Iowa by commercial establishments holding a Class “E” liquor license. The original dataset (LiquorSalesSamplev2.csv) contains purchasing data from January 1, 2012 to current. Separate functions are divided up and graphed where applicable: \n",
    "1. What times of the year have liquor sales been the highest?\n",
    "2. Are there hotspots in the state where liquor sales have been higher than the average?\n",
    "3. Are there preferred liquor types in the state of Iowa?\n",
    "4. Is there a surprising/unexpected time of year when liquor sales have gone up?\n",
    "5. Are there purchase trends during holidays and college football season?\n",
    "6. Are there any alcohol types that are frequently bought together? \n"
   ]
  },
  {
   "cell_type": "markdown",
   "id": "e3fa91f7-c424-4c18-991f-7891113cb8f9",
   "metadata": {},
   "source": [
    "Libraries used:"
   ]
  },
  {
   "cell_type": "code",
   "execution_count": null,
   "id": "9513a22d-591c-4439-9c44-b65f9a96977e",
   "metadata": {},
   "outputs": [],
   "source": [
    "import numpy as np\n",
    "import pandas as pd\n",
    "import mlxtend\n",
    "from mlxtend.frequent_patterns import apriori, association_rules\n",
    "import numpy as np\n",
    "import matplotlib.pyplot as plt\n",
    "import csv"
   ]
  },
  {
   "cell_type": "markdown",
   "id": "80e6c4b7-6336-477e-bffe-71db845512cf",
   "metadata": {},
   "source": [
    "Reading data, row count and splitting up the date for graphing by specific dates:"
   ]
  },
  {
   "cell_type": "code",
   "execution_count": null,
   "id": "3ac24713-f86a-4148-ab6c-83912977dc66",
   "metadata": {},
   "outputs": [],
   "source": [
    "data = pd.read_csv(\"LiquorSalesSamplev2.csv\")\n",
    "data.head(10)\n",
    "print(\"Number of lines present: \", len(data))\n"
   ]
  },
  {
   "cell_type": "code",
   "execution_count": null,
   "id": "b532e2fa-0256-48ca-b70a-8502757f512d",
   "metadata": {},
   "outputs": [],
   "source": [
    "data[['Month', 'Day', 'Year']] = data['Date'].str.split('/', expand = True)\n",
    "data.head()"
   ]
  },
  {
   "cell_type": "markdown",
   "id": "6fae2010-8b75-46a4-97a9-ee4d7eb880b5",
   "metadata": {},
   "source": [
    "### Question 1: What times of the year have liquor sales been the highest?"
   ]
  },
  {
   "cell_type": "markdown",
   "id": "ed58d1a2-abcc-4eec-91ef-036a3b01657f",
   "metadata": {},
   "source": [
    "#### Function to get mean of liquor sales per month and year:"
   ]
  },
  {
   "cell_type": "code",
   "execution_count": null,
   "id": "267e3d47-d41e-4cf9-bfc6-2f50e8f3b07e",
   "metadata": {},
   "outputs": [],
   "source": [
    "def timeofyear_sum(filename, Time, Sales, year): \n",
    "    data = pd.read_csv(filename) \n",
    "    data[['Month', 'Day', 'Year']] = data['Date'].str.split('/', expand=True) \n",
    "    data['Month'] = pd.to_numeric(data['Month']) \n",
    "    data = data[data['Year'] == year]\n",
    "    data = data.sort_values(by='Month') \n",
    "    data = data.groupby(data[Time]) \n",
    "    mean_of_col = data[Sales].sum() \n",
    "    print(mean_of_col)\n",
    "    return mean_of_col "
   ]
  },
  {
   "cell_type": "markdown",
   "id": "519d12dd-7685-43a7-9959-883f5202aa78",
   "metadata": {},
   "source": [
    "#### Average mean of every month in 2012:"
   ]
  },
  {
   "cell_type": "code",
   "execution_count": null,
   "id": "87133d0e-e4e3-4f09-8da3-55cce85c9e99",
   "metadata": {},
   "outputs": [],
   "source": [
    "year_2012 = timeofyear_sum('LiquorSalesSamplev2.csv', 'Month', 'Sale (Dollars)', '12')\n",
    "year_2012.plot();\n",
    "year_2012.sort_values()"
   ]
  },
  {
   "cell_type": "markdown",
   "id": "7164c984-8d64-41bd-82f5-a2f6d287cf8e",
   "metadata": {},
   "source": [
    "#### Average mean of every month in 2013:"
   ]
  },
  {
   "cell_type": "code",
   "execution_count": null,
   "id": "f628f4bb-319a-4dba-9b0a-614aa002691b",
   "metadata": {},
   "outputs": [],
   "source": [
    "year_2013 = timeofyear_sum('LiquorSalesSamplev2.csv', 'Month', 'Sale (Dollars)', '13')\n",
    "year_2013.plot();\n",
    "year_2013.sort_values()"
   ]
  },
  {
   "cell_type": "markdown",
   "id": "b3ae7780-073e-4b0b-85fe-a7d6b6c08c4b",
   "metadata": {},
   "source": [
    "#### Average mean of every month in 2014:"
   ]
  },
  {
   "cell_type": "code",
   "execution_count": null,
   "id": "845b702e-9a98-490c-ac42-0c2a0806f063",
   "metadata": {},
   "outputs": [],
   "source": [
    "year_2014 = timeofyear_sum('LiquorSalesSamplev2.csv', 'Month', 'Sale (Dollars)', '14')\n",
    "year_2014.plot();\n",
    "year_2014.sort_values()"
   ]
  },
  {
   "cell_type": "markdown",
   "id": "67323bdb-4e1b-4da9-bbb5-fadcf4e46a10",
   "metadata": {},
   "source": [
    "#### Average mean of every month in 2015:"
   ]
  },
  {
   "cell_type": "code",
   "execution_count": null,
   "id": "5d45119b-41b5-46b6-9926-242f9df3f601",
   "metadata": {},
   "outputs": [],
   "source": [
    "year_2015 = timeofyear_sum('LiquorSalesSamplev2.csv', 'Month', 'Sale (Dollars)', '15')\n",
    "year_2015.plot();\n",
    "year_2015.sort_values()"
   ]
  },
  {
   "cell_type": "markdown",
   "id": "50255f48-4002-43a6-972f-3f58a672e516",
   "metadata": {},
   "source": [
    "### Question 2: Are there hotspots in the state where liquor sales have been higher than the average?"
   ]
  },
  {
   "cell_type": "markdown",
   "id": "599fffe0-c290-4ba8-b493-c0210881d54d",
   "metadata": {},
   "source": [
    "#### Function to get total liquor sales by county:"
   ]
  },
  {
   "cell_type": "code",
   "execution_count": null,
   "id": "7e30e0bf-9ed4-4f97-9f3b-47859ddfc559",
   "metadata": {},
   "outputs": [],
   "source": [
    "def location_sum(filename, County, Sales):\n",
    "    data = pd.read_csv(filename)\n",
    "    data[['Month', 'Day', 'Year']] = data['Date'].str.split('/', expand = True)\n",
    "    data = data.groupby(data[County])\n",
    "    sum_of_col = data[Sales].sum() \n",
    "    return sum_of_col.sort_values()"
   ]
  },
  {
   "cell_type": "markdown",
   "id": "c12488e0-e789-4841-8362-1be686eba476",
   "metadata": {},
   "source": [
    "#### Function to get average liquor sales by county:"
   ]
  },
  {
   "cell_type": "code",
   "execution_count": null,
   "id": "6d4dc4f6-44aa-41e8-a979-4fb87552fc3e",
   "metadata": {},
   "outputs": [],
   "source": [
    "def location_mean(filename, County, Sales):\n",
    "    data = pd.read_csv(filename)\n",
    "    data[['Month', 'Day', 'Year']] = data['Date'].str.split('/', expand = True)\n",
    "    data = data.groupby(data[County])\n",
    "    mean_of_col = data[Sales].sum().mean() \n",
    "    return mean_of_col"
   ]
  },
  {
   "cell_type": "markdown",
   "id": "db7eaf4d-e80d-4d54-8309-fb57b867ff88",
   "metadata": {},
   "source": [
    "#### Total average liquor sales for counties and cities:"
   ]
  },
  {
   "cell_type": "code",
   "execution_count": null,
   "id": "174d9dc2-f158-4089-b360-cd230dfb931c",
   "metadata": {},
   "outputs": [],
   "source": [
    "county_mean = location_mean('LiquorSalesSamplev2.csv', 'County', 'Sale (Dollars)')\n",
    "city_mean = location_mean('LiquorSalesSamplev2.csv', 'City', 'Sale (Dollars)')\n",
    "\n",
    "print(county_mean)\n",
    "print(city_mean)"
   ]
  },
  {
   "cell_type": "markdown",
   "id": "a36f74c4-5773-4819-879e-e058ce51a89d",
   "metadata": {},
   "source": [
    "#### Total sales per county (graph of highest sales counties):"
   ]
  },
  {
   "cell_type": "code",
   "execution_count": null,
   "id": "b475bb8e-690f-43be-8c55-e886844cf319",
   "metadata": {},
   "outputs": [],
   "source": [
    "county_sales = location_sum('LiquorSales.csv', 'County', 'Sale (Dollars)')\n",
    "print(county_sales)\n",
    "county_sales.nlargest(5).plot(kind='barh');\n",
    "for index, value in enumerate(county_sales.nlargest(5)): \n",
    "    plt.text(value, index,str(value))\n",
    "plt.axvline(county_mean, color='red');\n",
    "plt.xticks(rotation=45);\n",
    "plt.xlabel('Total Sales in Millions');\n",
    "plt.title('Total Sales per County');"
   ]
  },
  {
   "cell_type": "markdown",
   "id": "fb3e4060-13d2-4b0b-a3e5-2ac5c68b82d5",
   "metadata": {},
   "source": [
    "#### Total sales per city (graph of highest sales cities):"
   ]
  },
  {
   "cell_type": "code",
   "execution_count": null,
   "id": "4329dfa0-c8da-40be-b784-605162a22cbf",
   "metadata": {},
   "outputs": [],
   "source": [
    "city_sales = location_sum('LiquorSales.csv', 'City', 'Sale (Dollars)')\n",
    "print(city_sales)\n",
    "city_sales.nlargest(5).plot(kind='barh');\n",
    "for index, value in enumerate(city_sales.nlargest(5)): \n",
    "    plt.text(value, index,str(value))\n",
    "plt.axvline(city_mean, color='red');\n",
    "plt.xticks(rotation=45);\n",
    "plt.xlabel('Total Sales in Millions');\n",
    "plt.title('Total Sales per City');"
   ]
  },
  {
   "cell_type": "markdown",
   "id": "7ea7cee7-32d8-4761-87c6-0f06d79df124",
   "metadata": {},
   "source": [
    "### Question 3:  Are there preferred liquor types in the state of Iowa?"
   ]
  },
  {
   "cell_type": "markdown",
   "id": "ce61c7ab-1c87-45c5-8813-152c5c54c52c",
   "metadata": {},
   "source": [
    "#### Function to get prefered liquor (counts the total by liquor type):"
   ]
  },
  {
   "cell_type": "code",
   "execution_count": null,
   "id": "583f3e53-d311-4ba4-a5d8-902df25f0f8e",
   "metadata": {},
   "outputs": [],
   "source": [
    "def preferred_type(filename, Liquor):\n",
    "    data = pd.read_csv(filename)\n",
    "    data = data.groupby(data[Liquor])['Reference'].count()\n",
    "    return data.sort_values()\n",
    "print(preferred_type('LiquorSalesSamplev2.csv', 'Label'))"
   ]
  },
  {
   "cell_type": "markdown",
   "id": "8b753a63-c80b-4891-b403-ea7803731627",
   "metadata": {},
   "source": [
    "#### Function to get prefered liquor type by location:"
   ]
  },
  {
   "cell_type": "code",
   "execution_count": null,
   "id": "4593272e-c4a9-49da-859f-35e47d9868f9",
   "metadata": {},
   "outputs": [],
   "source": [
    "def preferred_type_byLoc(filename, Liquor, Location):\n",
    "    data = pd.read_csv(filename)\n",
    "    data = data.groupby([Location, Liquor])['Reference'].count()\n",
    "    return data"
   ]
  },
  {
   "cell_type": "markdown",
   "id": "485ccf7f-dbeb-41bf-9909-104c02b0a7d6",
   "metadata": {},
   "source": [
    "#### Prefered liquor by county:"
   ]
  },
  {
   "cell_type": "code",
   "execution_count": null,
   "id": "a009ce3a-938d-4e11-b029-763a3aa28bf4",
   "metadata": {},
   "outputs": [],
   "source": [
    "print(preferred_type_byLoc('LiquorSalesSamplev2.csv', 'Label', 'County'))"
   ]
  },
  {
   "cell_type": "markdown",
   "id": "ce79e9ef-def7-4d17-a3d6-d148756e70c7",
   "metadata": {},
   "source": [
    "#### Prefered liquor by city:"
   ]
  },
  {
   "cell_type": "code",
   "execution_count": null,
   "id": "acea5595-e8c2-49d6-8a5f-3665a210ddcb",
   "metadata": {},
   "outputs": [],
   "source": [
    "print(preferred_type_byLoc('LiquorSalesSamplev2.csv', 'Label', 'City'))"
   ]
  },
  {
   "cell_type": "markdown",
   "id": "570dc177-b97d-4c0a-9ffb-e5f92698793d",
   "metadata": {},
   "source": [
    "### Question 4: Is there a surprising/unexpected time of year when liquor sales have gone up?"
   ]
  },
  {
   "cell_type": "markdown",
   "id": "1403e36a-aab1-4332-b022-c5097e53990d",
   "metadata": {},
   "source": [
    "#### Function to get the maximum liquor sales by time of year:"
   ]
  },
  {
   "cell_type": "code",
   "execution_count": null,
   "id": "64ea68e8-cc40-4230-a3f1-5b4641c0c88b",
   "metadata": {},
   "outputs": [],
   "source": [
    "def timeofyear_maximum(filename, Time, Sales, year): \n",
    "    data = pd.read_csv(filename) \n",
    "    data[['Month', 'Day', 'Year']] = data['Date'].str.split('/', expand=True) \n",
    "    data['Month'] = pd.to_numeric(data['Month']) \n",
    "    data = data[data['Year'] == year]\n",
    "    data = data.sort_values(by='Month') \n",
    "    data = data.groupby(data[Time]) \n",
    "    max_of_col = data[Sales].max() \n",
    "    print(max_of_col)\n",
    "    return max_of_col "
   ]
  },
  {
   "cell_type": "markdown",
   "id": "c374d8db-1a16-4bf0-9757-5d1ce5332a07",
   "metadata": {},
   "source": [
    "#### Function to get the average liquor sales by time of year:"
   ]
  },
  {
   "cell_type": "code",
   "execution_count": null,
   "id": "255bd905-8ae1-4d4c-be50-257abc1c3555",
   "metadata": {},
   "outputs": [],
   "source": [
    "def timeofyear_mean(filename, Time, Sales, year): \n",
    "    data = pd.read_csv(filename) \n",
    "    data[['Month', 'Day', 'Year']] = data['Date'].str.split('/', expand=True) \n",
    "    data['Month'] = pd.to_numeric(data['Month']) \n",
    "    data = data[data['Year'] == year]\n",
    "    data = data.sort_values(by='Month') \n",
    "    data = data.groupby(data[Time]) \n",
    "    mean_of_col = data[Sales].mean() \n",
    "    print(mean_of_col)\n",
    "    return mean_of_col "
   ]
  },
  {
   "cell_type": "markdown",
   "id": "e6736ff3-621b-4d44-af28-2b52f6e47d35",
   "metadata": {},
   "source": [
    "#### Function to get the average liquor sales by specific date"
   ]
  },
  {
   "cell_type": "code",
   "execution_count": null,
   "id": "c7db64ef-eb1c-4f8e-908e-9c219c5f0526",
   "metadata": {},
   "outputs": [],
   "source": [
    "def timeofyear_mean_day(filename, Sales, year, month): \n",
    "    data = pd.read_csv(filename) \n",
    "    data[['Month', 'Day', 'Year']] = data['Date'].str.split('/', expand=True) \n",
    "    data['Day'] = pd.to_numeric(data['Day']) \n",
    "    data = data[data['Year'] == year]\n",
    "    data = data[data['Month'] == month]\n",
    "    data = data.sort_values(by='Day') \n",
    "    data = data.groupby(data['Day']) \n",
    "    mean_of_col_day = data[Sales].mean() \n",
    "    print(mean_of_col_day)\n",
    "    return mean_of_col_day"
   ]
  },
  {
   "cell_type": "markdown",
   "id": "2f1725fb-24a9-472a-9a2d-a98815e2d7e4",
   "metadata": {},
   "source": [
    "#### Time of year maximum for 2012 by month:"
   ]
  },
  {
   "cell_type": "code",
   "execution_count": null,
   "id": "01138f7e-2f3f-4def-8fee-925781aab039",
   "metadata": {},
   "outputs": [],
   "source": [
    "timeofyear_maximum('LiquorSalesSamplev2.csv', 'Month', 'Sale (Dollars)', '12').plot()\n",
    "plt.xlabel('Month')\n",
    "plt.ylabel('Sales')\n",
    "plt.title('2012 Maximum by Month')\n",
    "plt.show()"
   ]
  },
  {
   "cell_type": "markdown",
   "id": "9a869f45-3fde-44ba-9285-1259ac3fdfc2",
   "metadata": {},
   "source": [
    "#### Time of year average for 2012 by month:"
   ]
  },
  {
   "cell_type": "code",
   "execution_count": null,
   "id": "502f7a7d-46bd-4cf9-89f5-21257a46873e",
   "metadata": {},
   "outputs": [],
   "source": [
    "timeofyear_mean('LiquorSalesSamplev2.csv', 'Month', 'Sale (Dollars)', '12').plot()\n",
    "plt.xlabel('Month')\n",
    "plt.ylabel('Sales')\n",
    "plt.title('2012 Mean by Month')\n",
    "plt.show()"
   ]
  },
  {
   "cell_type": "markdown",
   "id": "6add8296-64c7-4fac-a60f-4e53c6c80e8f",
   "metadata": {},
   "source": [
    "#### Average sales per day of October 2012:\n",
    "###### Analyzing because of spike in comparison to the rest of 2012"
   ]
  },
  {
   "cell_type": "code",
   "execution_count": null,
   "id": "6b5d5ad7-44e0-4594-878c-63ff130b8897",
   "metadata": {},
   "outputs": [],
   "source": [
    "timeofyear_mean_day('LiquorSalesSamplev2.csv', 'Sale (Dollars)', '12', '10').plot()\n",
    "plt.xlabel('Day')\n",
    "plt.ylabel('Sales')\n",
    "plt.title('October Mean by Day')\n",
    "plt.show()"
   ]
  },
  {
   "cell_type": "markdown",
   "id": "3025644d-b77b-4e89-815f-3cfe7bcb21d9",
   "metadata": {},
   "source": [
    "#### Time of year maximum for 2013 by month:"
   ]
  },
  {
   "cell_type": "code",
   "execution_count": null,
   "id": "64778434-9fde-489e-af2b-13c3e931fd37",
   "metadata": {},
   "outputs": [],
   "source": [
    "timeofyear_maximum('LiquorSalesSamplev2.csv', 'Month', 'Sale (Dollars)', '13').plot()\n",
    "plt.xlabel('Month')\n",
    "plt.ylabel('Sales')\n",
    "plt.title('2013 Maximum by Month')\n",
    "plt.show()"
   ]
  },
  {
   "cell_type": "markdown",
   "id": "387ff7b9-be6d-4d43-bc42-4a2a86f30c15",
   "metadata": {},
   "source": [
    "#### Time of year average for 2013 by month:"
   ]
  },
  {
   "cell_type": "code",
   "execution_count": null,
   "id": "e2208d1b-172b-435f-9735-fe850b6268ec",
   "metadata": {},
   "outputs": [],
   "source": [
    "timeofyear_mean('LiquorSalesSamplev2.csv', 'Month', 'Sale (Dollars)', '13').plot()\n",
    "plt.xlabel('Month')\n",
    "plt.ylabel('Sales')\n",
    "plt.title('2013 Mean by Month')\n",
    "plt.show()"
   ]
  },
  {
   "cell_type": "markdown",
   "id": "a030cb3f-035c-4691-9074-a34fc93c9d79",
   "metadata": {},
   "source": [
    "#### Average sales per day of October 2013:\n",
    "###### Analyzing because of spike in comparison to the rest of 2013"
   ]
  },
  {
   "cell_type": "code",
   "execution_count": null,
   "id": "bc4da0eb-3bdf-40f6-bc95-f6c77ac60175",
   "metadata": {},
   "outputs": [],
   "source": [
    "timeofyear_mean_day('LiquorSalesSamplev2.csv', 'Sale (Dollars)', '13', '10').plot()\n",
    "plt.xlabel('Day')\n",
    "plt.ylabel('Sales')\n",
    "plt.title('October Mean by Day')\n",
    "plt.show()"
   ]
  },
  {
   "cell_type": "markdown",
   "id": "8462414b-56b7-432d-8da4-665b2d65928e",
   "metadata": {},
   "source": [
    "#### Time of year maximum for 2014 by month:"
   ]
  },
  {
   "cell_type": "code",
   "execution_count": null,
   "id": "0fdb346a-fc16-4747-8dd9-4002a6d39092",
   "metadata": {},
   "outputs": [],
   "source": [
    "timeofyear_maximum('LiquorSalesSamplev2.csv', 'Month', 'Sale (Dollars)', '14').plot()\n",
    "plt.xlabel('Month')\n",
    "plt.ylabel('Sales')\n",
    "plt.title('2014 Maximum by Month')\n",
    "plt.show()"
   ]
  },
  {
   "cell_type": "markdown",
   "id": "5ae32a17-295d-4018-995a-91ead50674e2",
   "metadata": {},
   "source": [
    "#### Time of year average for 2014 by month:"
   ]
  },
  {
   "cell_type": "code",
   "execution_count": null,
   "id": "4186736e-c2cb-425a-92d1-03c2e831d29b",
   "metadata": {},
   "outputs": [],
   "source": [
    "timeofyear_mean('LiquorSalesSamplev2.csv', 'Month', 'Sale (Dollars)', '14').plot()\n",
    "plt.xlabel('Month')\n",
    "plt.ylabel('Sales')\n",
    "plt.title('2014 Mean by Month')\n",
    "plt.show()"
   ]
  },
  {
   "cell_type": "markdown",
   "id": "8b3208e0-d963-4c90-9add-f56180a6f3e9",
   "metadata": {},
   "source": [
    "#### Average sales per day of October 2014:\n",
    "###### Analyzing because of spike in comparison to the rest of 2014"
   ]
  },
  {
   "cell_type": "code",
   "execution_count": null,
   "id": "21ca0c30-e146-4246-a286-382b8e6b230f",
   "metadata": {},
   "outputs": [],
   "source": [
    "timeofyear_mean_day('LiquorSalesSamplev2.csv', 'Sale (Dollars)', '14', '10').plot()\n",
    "plt.xlabel('Day')\n",
    "plt.ylabel('Sales')\n",
    "plt.title('October Mean by Day')\n",
    "plt.show()"
   ]
  },
  {
   "cell_type": "markdown",
   "id": "3e7a5ec2-9a2a-4177-b28a-56bce82d2f68",
   "metadata": {},
   "source": [
    "#### Time of year maximum for 2015 by month:"
   ]
  },
  {
   "cell_type": "code",
   "execution_count": null,
   "id": "a2ffc5d8-5c81-46e3-807e-7dae04c6d1ce",
   "metadata": {},
   "outputs": [],
   "source": [
    "timeofyear_maximum('LiquorSalesSamplev2.csv', 'Month', 'Sale (Dollars)', '15').plot()\n",
    "plt.xlabel('Month')\n",
    "plt.ylabel('Sales')\n",
    "plt.title('2015 Maximum by Month')\n",
    "plt.show()"
   ]
  },
  {
   "cell_type": "markdown",
   "id": "c2e10ce5-343b-4e5e-bb8f-a8cedaa6e500",
   "metadata": {},
   "source": [
    "#### Time of year average for 2015 by month:"
   ]
  },
  {
   "cell_type": "code",
   "execution_count": null,
   "id": "c915ecd5-4dd0-46b8-aabe-46e5161676b7",
   "metadata": {},
   "outputs": [],
   "source": [
    "timeofyear_mean('LiquorSalesSamplev2.csv', 'Month', 'Sale (Dollars)', '15').plot()\n",
    "plt.xlabel('Month')\n",
    "plt.ylabel('Sales')\n",
    "plt.title('2015 Mean by Month')\n",
    "plt.show()"
   ]
  },
  {
   "cell_type": "markdown",
   "id": "9441b436-ecad-4160-be28-b04416a665a3",
   "metadata": {},
   "source": [
    "#### Average sales per day of October 2015:\n",
    "###### Analyzing because of spike in comparison to the rest of 2015"
   ]
  },
  {
   "cell_type": "code",
   "execution_count": null,
   "id": "7fe60fd1-8b83-4b8d-9d1e-aa41f940dc75",
   "metadata": {},
   "outputs": [],
   "source": [
    "timeofyear_mean_day('LiquorSalesSamplev2.csv', 'Sale (Dollars)', '15', '10').plot()\n",
    "plt.xlabel('Day')\n",
    "plt.ylabel('Sales')\n",
    "plt.title('October Mean by Day')\n",
    "plt.show()"
   ]
  },
  {
   "cell_type": "markdown",
   "id": "78f850cf-b420-476f-a38d-7c1a19ea90a4",
   "metadata": {},
   "source": [
    "### Question 5: Are there purchase trends just prior to holidays and college football season (to prepare for expected higher consumer sales)?"
   ]
  },
  {
   "cell_type": "markdown",
   "id": "dc3863f6-31b0-4a54-ad3f-341f8d42fe4d",
   "metadata": {},
   "source": [
    "#### Graph of average sales per day for January 2012 through 2015"
   ]
  },
  {
   "cell_type": "code",
   "execution_count": null,
   "id": "522ebf95-c211-4a7e-9fff-7b0e1342e3eb",
   "metadata": {},
   "outputs": [],
   "source": [
    "jan_12 = timeofyear_mean_day('LiquorSalesSamplev2.csv', 'Sale (Dollars)', '12', '1')\n",
    "jan_13 = timeofyear_mean_day('LiquorSalesSamplev2.csv', 'Sale (Dollars)', '13', '1')\n",
    "jan_14 = timeofyear_mean_day('LiquorSalesSamplev2.csv', 'Sale (Dollars)', '14', '1')\n",
    "jan_15 = timeofyear_mean_day('LiquorSalesSamplev2.csv', 'Sale (Dollars)', '15', '1')\n",
    "plt.title(\"January 2012-2015 Sales\")\n",
    "plt.xlabel(\"Day of Month\")\n",
    "plt.ylabel(\"Total Dollar Amount\")\n",
    "plt.rcParams[\"figure.figsize\"] = [10, 3.5]\n",
    "# plt.rcParams[\"figure.autolayout\"] = True\n",
    "line1 = plt.plot(jan_12, label = \"Jan 2012\")\n",
    "line2, = plt.plot(jan_13, label=\"Jan 2013\")\n",
    "line3, = plt.plot(jan_14, label=\"Jan 2014\")\n",
    "line4, = plt.plot(jan_15, label=\"Jan 2015\")\n",
    "leg = plt.legend(loc='upper left')\n",
    "plt.show()"
   ]
  },
  {
   "cell_type": "markdown",
   "id": "db659cf5-71fe-4fa4-b51e-46456a06f313",
   "metadata": {},
   "source": [
    "#### Graph of average sales per day for February 2012 through 2015"
   ]
  },
  {
   "cell_type": "code",
   "execution_count": null,
   "id": "b0e606e2-ef33-4773-95c4-ba80aeb536f4",
   "metadata": {},
   "outputs": [],
   "source": [
    "feb_12 = timeofyear_mean_day('LiquorSalesSamplev2.csv', 'Sale (Dollars)', '12', '2')\n",
    "feb_13 = timeofyear_mean_day('LiquorSalesSamplev2.csv', 'Sale (Dollars)', '13', '2')\n",
    "feb_14 = timeofyear_mean_day('LiquorSalesSamplev2.csv', 'Sale (Dollars)', '14', '2')\n",
    "feb_15 = timeofyear_mean_day('LiquorSalesSamplev2.csv', 'Sale (Dollars)', '15', '2')\n",
    "plt.title(\"February 2012-2015 Sales\")\n",
    "plt.xlabel(\"Day of Month\")\n",
    "plt.ylabel(\"Total Dollar Amount\")\n",
    "plt.rcParams[\"figure.figsize\"] = [10, 3.5]\n",
    "# plt.rcParams[\"figure.autolayout\"] = True\n",
    "line1 = plt.plot(feb_12, label = \"Feb 2012\")\n",
    "line2, = plt.plot(feb_13, label=\"Feb 2013\")\n",
    "line3, = plt.plot(feb_14, label=\"Feb 2014\")\n",
    "line4, = plt.plot(feb_15, label=\"Feb 2015\")\n",
    "leg = plt.legend(loc='upper left')\n",
    "plt.show()"
   ]
  },
  {
   "cell_type": "markdown",
   "id": "baffb655-bb41-474c-87f6-2a07bed0788c",
   "metadata": {},
   "source": [
    "#### Graph of average sales per day for March 2012 through 2015"
   ]
  },
  {
   "cell_type": "code",
   "execution_count": null,
   "id": "afe10e54-4fc6-41cb-9b96-7dcdb428e5f9",
   "metadata": {},
   "outputs": [],
   "source": [
    "march_12 = timeofyear_mean_day('LiquorSalesSamplev2.csv', 'Sale (Dollars)', '12', '3')\n",
    "march_13 = timeofyear_mean_day('LiquorSalesSamplev2.csv', 'Sale (Dollars)', '13', '3')\n",
    "march_14 = timeofyear_mean_day('LiquorSalesSamplev2.csv', 'Sale (Dollars)', '14', '3')\n",
    "march_15 = timeofyear_mean_day('LiquorSalesSamplev2.csv', 'Sale (Dollars)', '15', '3')\n",
    "plt.title(\"March 2012-2015 Sales\")\n",
    "plt.xlabel(\"Day of Month\")\n",
    "plt.ylabel(\"Total Dollar Amount\")\n",
    "plt.rcParams[\"figure.figsize\"] = [10, 3.5]\n",
    "# plt.rcParams[\"figure.autolayout\"] = True\n",
    "line1 = plt.plot(march_12, label = \"March 2012\")\n",
    "line2, = plt.plot(march_13, label=\"March 2013\")\n",
    "line3, = plt.plot(march_14, label=\"March 2014\")\n",
    "line4, = plt.plot(march_15, label=\"March 2015\")\n",
    "leg = plt.legend(loc='upper left')\n",
    "plt.show()\n"
   ]
  },
  {
   "cell_type": "markdown",
   "id": "f789adfa-547f-4d7a-8f31-d36063884faa",
   "metadata": {},
   "source": [
    "#### Graph of average sales per day for April 2012 through 2015"
   ]
  },
  {
   "cell_type": "code",
   "execution_count": null,
   "id": "b0276fbc-7287-4837-99be-a72082f95630",
   "metadata": {},
   "outputs": [],
   "source": [
    "april_12 = timeofyear_mean_day('LiquorSalesSamplev2.csv', 'Sale (Dollars)', '12', '4')\n",
    "april_13 = timeofyear_mean_day('LiquorSalesSamplev2.csv', 'Sale (Dollars)', '13', '4')\n",
    "april_14 = timeofyear_mean_day('LiquorSalesSamplev2.csv', 'Sale (Dollars)', '14', '4')\n",
    "april_15 = timeofyear_mean_day('LiquorSalesSamplev2.csv', 'Sale (Dollars)', '15', '4')\n",
    "plt.title(\"April 2012-2015 Sales\")\n",
    "plt.xlabel(\"Day of Month\")\n",
    "plt.ylabel(\"Total Dollar Amount\")\n",
    "plt.rcParams[\"figure.figsize\"] = [10, 3.5]\n",
    "# plt.rcParams[\"figure.autolayout\"] = True\n",
    "line1 = plt.plot(april_12, label = \"April 2012\")\n",
    "line2, = plt.plot(april_13, label=\"April 2013\")\n",
    "line3, = plt.plot(april_14, label=\"April 2014\")\n",
    "line4, = plt.plot(april_15, label=\"April 2015\")\n",
    "leg = plt.legend(loc='upper left')\n",
    "plt.show()"
   ]
  },
  {
   "cell_type": "markdown",
   "id": "e70c1725-f34d-49ee-8257-def7b50792b6",
   "metadata": {},
   "source": [
    "#### Graph of average sales per day for May 2012 through 2015"
   ]
  },
  {
   "cell_type": "code",
   "execution_count": null,
   "id": "d4c1aa29-d4d6-4cb9-af1b-d92f270a23e3",
   "metadata": {},
   "outputs": [],
   "source": [
    "may_12 = timeofyear_mean_day('LiquorSalesSamplev2.csv', 'Sale (Dollars)', '12', '5')\n",
    "may_13 = timeofyear_mean_day('LiquorSalesSamplev2.csv', 'Sale (Dollars)', '13', '5')\n",
    "may_14 = timeofyear_mean_day('LiquorSalesSamplev2.csv', 'Sale (Dollars)', '14', '5')\n",
    "may_15 = timeofyear_mean_day('LiquorSalesSamplev2.csv', 'Sale (Dollars)', '15', '5')\n",
    "plt.title(\"May 2012-2015 Sales\")\n",
    "plt.xlabel(\"Day of Month\")\n",
    "plt.ylabel(\"Total Dollar Amount\")\n",
    "plt.rcParams[\"figure.figsize\"] = [10, 3.5]\n",
    "# plt.rcParams[\"figure.autolayout\"] = True\n",
    "line1 = plt.plot(may_12, label = \"May 2012\")\n",
    "line2, = plt.plot(may_13, label=\"May 2013\")\n",
    "line3, = plt.plot(may_14, label=\"May 2014\")\n",
    "line4, = plt.plot(may_15, label=\"May 2015\")\n",
    "leg = plt.legend(loc='upper left')\n",
    "plt.show()"
   ]
  },
  {
   "cell_type": "markdown",
   "id": "b3fd9f00-2ac4-47f0-9589-6c62e090ea4a",
   "metadata": {},
   "source": [
    "#### Graph of average sales per day for June 2012 through 2015"
   ]
  },
  {
   "cell_type": "code",
   "execution_count": null,
   "id": "60b518e5-f006-4ca1-8764-d0b3c178a9d7",
   "metadata": {},
   "outputs": [],
   "source": [
    "june_12 = timeofyear_mean_day('LiquorSalesSamplev2.csv', 'Sale (Dollars)', '12', '6')\n",
    "june_13 = timeofyear_mean_day('LiquorSalesSamplev2.csv', 'Sale (Dollars)', '13', '6')\n",
    "june_14 = timeofyear_mean_day('LiquorSalesSamplev2.csv', 'Sale (Dollars)', '14', '6')\n",
    "june_15 = timeofyear_mean_day('LiquorSalesSamplev2.csv', 'Sale (Dollars)', '15', '6')\n",
    "plt.title(\"June 2012-2015 Sales\")\n",
    "plt.xlabel(\"Day of Month\")\n",
    "plt.ylabel(\"Total Dollar Amount\")\n",
    "plt.rcParams[\"figure.figsize\"] = [10, 3.5]\n",
    "# plt.rcParams[\"figure.autolayout\"] = True\n",
    "line1 = plt.plot(may_12, label = \"June 2012\")\n",
    "line2, = plt.plot(may_13, label=\"June 2013\")\n",
    "line3, = plt.plot(may_14, label=\"June 2014\")\n",
    "line4, = plt.plot(may_15, label=\"June 2015\")\n",
    "leg = plt.legend(loc='upper left')\n",
    "plt.show()"
   ]
  },
  {
   "cell_type": "markdown",
   "id": "ceac3803-f08d-40c1-83f4-615258c4d482",
   "metadata": {},
   "source": [
    "#### Graph of average sales per day for July 2012 through 2015"
   ]
  },
  {
   "cell_type": "code",
   "execution_count": null,
   "id": "f014349b-7f06-4da6-840e-2f03a90937eb",
   "metadata": {},
   "outputs": [],
   "source": [
    "july_12 = timeofyear_mean_day('LiquorSalesSamplev2.csv', 'Sale (Dollars)', '12', '7')\n",
    "july_13 = timeofyear_mean_day('LiquorSalesSamplev2.csv', 'Sale (Dollars)', '13', '7')\n",
    "july_14 = timeofyear_mean_day('LiquorSalesSamplev2.csv', 'Sale (Dollars)', '14', '7')\n",
    "july_15 = timeofyear_mean_day('LiquorSalesSamplev2.csv', 'Sale (Dollars)', '15', '7')\n",
    "plt.title(\"July 2012-2015 Sales\")\n",
    "plt.xlabel(\"Day of Month\")\n",
    "plt.ylabel(\"Total Dollar Amount\")\n",
    "plt.rcParams[\"figure.figsize\"] = [10, 3.5]\n",
    "# plt.rcParams[\"figure.autolayout\"] = True\n",
    "line1 = plt.plot(july_12, label = \"July 2012\")\n",
    "line2, = plt.plot(july_13, label=\"July 2013\")\n",
    "line3, = plt.plot(july_14, label=\"July 2014\")\n",
    "line4, = plt.plot(july_15, label=\"July 2015\")\n",
    "leg = plt.legend(loc='upper left')\n",
    "plt.show()"
   ]
  },
  {
   "cell_type": "markdown",
   "id": "81f8c913-656b-4b0c-bfb2-e1c4f61e5d9f",
   "metadata": {},
   "source": [
    "#### Graph of average sales per day for August 2012 through 2015"
   ]
  },
  {
   "cell_type": "code",
   "execution_count": null,
   "id": "dd491f60-7e53-416b-a6c6-f51304ee5b0d",
   "metadata": {},
   "outputs": [],
   "source": [
    "aug_12 = timeofyear_mean_day('LiquorSalesSamplev2.csv', 'Sale (Dollars)', '12', '8')\n",
    "aug_13 = timeofyear_mean_day('LiquorSalesSamplev2.csv', 'Sale (Dollars)', '13', '8')\n",
    "aug_14 = timeofyear_mean_day('LiquorSalesSamplev2.csv', 'Sale (Dollars)', '14', '8')\n",
    "aug_15 = timeofyear_mean_day('LiquorSalesSamplev2.csv', 'Sale (Dollars)', '15', '8')\n",
    "plt.title(\"August 2012-2015 Sales\")\n",
    "plt.xlabel(\"Day of Month\")\n",
    "plt.ylabel(\"Mean Sales\")\n",
    "plt.rcParams[\"figure.figsize\"] = [10, 3.5]\n",
    "# plt.rcParams[\"figure.autolayout\"] = True\n",
    "line1 = plt.plot(aug_12, label = \"August 2012\")\n",
    "line2, = plt.plot(aug_13, label=\"August 2013\")\n",
    "line3, = plt.plot(aug_14, label=\"August 2014\")\n",
    "line4, = plt.plot(aug_15, label=\"August 2015\")\n",
    "leg = plt.legend(loc='upper left')\n",
    "plt.show()"
   ]
  },
  {
   "cell_type": "markdown",
   "id": "04324b7b-019a-40c6-8365-38c80ffff9cc",
   "metadata": {},
   "source": [
    "#### Graph of average sales per day for September 2012 through 2015"
   ]
  },
  {
   "cell_type": "code",
   "execution_count": null,
   "id": "230e483c-f4ca-4a8b-bb8a-5bef9889622c",
   "metadata": {},
   "outputs": [],
   "source": [
    "sept_12 = timeofyear_mean_day('LiquorSalesSamplev2.csv', 'Sale (Dollars)', '12', '9')\n",
    "sept_13 = timeofyear_mean_day('LiquorSalesSamplev2.csv', 'Sale (Dollars)', '13', '9')\n",
    "sept_14 = timeofyear_mean_day('LiquorSalesSamplev2.csv', 'Sale (Dollars)', '14', '9')\n",
    "sept_15 = timeofyear_mean_day('LiquorSalesSamplev2.csv', 'Sale (Dollars)', '15', '9')\n",
    "plt.title(\"September 2012-2015 Sales\")\n",
    "plt.xlabel(\"Day of Month\")\n",
    "plt.ylabel(\"Total Dollar Amount\")\n",
    "plt.rcParams[\"figure.figsize\"] = [10, 3.5]\n",
    "# plt.rcParams[\"figure.autolayout\"] = True\n",
    "line1 = plt.plot(sept_12, label = \"September 2012\")\n",
    "line2, = plt.plot(sept_13, label=\"September 2013\")\n",
    "line3, = plt.plot(sept_14, label=\"September 2014\")\n",
    "line4, = plt.plot(sept_15, label=\"September 2015\")\n",
    "leg = plt.legend(loc='upper left')\n",
    "plt.show()"
   ]
  },
  {
   "cell_type": "markdown",
   "id": "74ff9965-6ece-4bc3-a8e6-7507bef4be6a",
   "metadata": {},
   "source": [
    "#### Graph of average sales per day for October 2012 through 2013"
   ]
  },
  {
   "cell_type": "code",
   "execution_count": null,
   "id": "4508538b-919e-422f-aaa8-c79b3b063113",
   "metadata": {},
   "outputs": [],
   "source": [
    "oct_12 = timeofyear_mean_day('LiquorSalesSamplev2.csv', 'Sale (Dollars)', '12', '10')\n",
    "oct_13 = timeofyear_mean_day('LiquorSalesSamplev2.csv', 'Sale (Dollars)', '13', '10')\n",
    "oct_14 = timeofyear_mean_day('LiquorSalesSamplev2.csv', 'Sale (Dollars)', '14', '10')\n",
    "oct_15 = timeofyear_mean_day('LiquorSalesSamplev2.csv', 'Sale (Dollars)', '15', '10')\n",
    "plt.title(\"October 2012-2013 Sales\")\n",
    "plt.xlabel(\"Day of Month\")\n",
    "plt.ylabel(\"Total Dollar Amount\")\n",
    "plt.rcParams[\"figure.figsize\"] = [10, 3.5]\n",
    "# plt.rcParams[\"figure.autolayout\"] = True\n",
    "line1 = plt.plot(oct_12, label = \"October 2012\")\n",
    "line2, = plt.plot(oct_13, label=\"October 2013\")\n",
    "# line3, = plt.plot(oct_14, label=\"October 2014\")\n",
    "# line4, = plt.plot(oct_15, label=\"October 2015\")\n",
    "leg = plt.legend(loc='upper left')\n",
    "plt.show()"
   ]
  },
  {
   "cell_type": "markdown",
   "id": "2cb4d763-5fed-4c28-bd27-829c2768044a",
   "metadata": {},
   "source": [
    "#### Graph of average sales per day for October 2014 through 2015"
   ]
  },
  {
   "cell_type": "code",
   "execution_count": null,
   "id": "9380df85-aa78-451b-a2ce-aba12fc475d3",
   "metadata": {},
   "outputs": [],
   "source": [
    "oct_12 = timeofyear_mean_day('LiquorSalesSamplev2.csv', 'Sale (Dollars)', '12', '10')\n",
    "oct_13 = timeofyear_mean_day('LiquorSalesSamplev2.csv', 'Sale (Dollars)', '13', '10')\n",
    "oct_14 = timeofyear_mean_day('LiquorSalesSamplev2.csv', 'Sale (Dollars)', '14', '10')\n",
    "oct_15 = timeofyear_mean_day('LiquorSalesSamplev2.csv', 'Sale (Dollars)', '15', '10')\n",
    "plt.title(\"October 2014-2015 Sales\")\n",
    "plt.xlabel(\"Day of Month\")\n",
    "plt.ylabel(\"Total Dollar Amount\")\n",
    "plt.rcParams[\"figure.figsize\"] = [10, 3.5]\n",
    "# plt.rcParams[\"figure.autolayout\"] = True\n",
    "# line1 = plt.plot(oct_12, label = \"October 2012\")\n",
    "# line2, = plt.plot(oct_13, label=\"October 2013\")\n",
    "line3, = plt.plot(oct_14, label=\"October 2014\", color = 'green')\n",
    "line4, = plt.plot(oct_15, label=\"October 2015\", color = 'red')\n",
    "leg = plt.legend(loc='upper left')\n",
    "plt.show()"
   ]
  },
  {
   "cell_type": "markdown",
   "id": "1b8681f1-83d7-4663-8fce-bef295b8c4eb",
   "metadata": {},
   "source": [
    "#### Graph of average sales per day for November 2012 through 2015"
   ]
  },
  {
   "cell_type": "code",
   "execution_count": null,
   "id": "2c356fa1-ebee-4548-9449-f91edf8c497f",
   "metadata": {},
   "outputs": [],
   "source": [
    "nov_12 = timeofyear_mean_day('LiquorSalesSamplev2.csv', 'Sale (Dollars)', '12', '11')\n",
    "nov_13 = timeofyear_mean_day('LiquorSalesSamplev2.csv', 'Sale (Dollars)', '13', '11')\n",
    "nov_14 = timeofyear_mean_day('LiquorSalesSamplev2.csv', 'Sale (Dollars)', '14', '11')\n",
    "nov_15 = timeofyear_mean_day('LiquorSalesSamplev2.csv', 'Sale (Dollars)', '15', '11')\n",
    "plt.title(\"November 2012-2015 Sales\")\n",
    "plt.xlabel(\"Day of Month\")\n",
    "plt.ylabel(\"Total Dollar Amount\")\n",
    "plt.rcParams[\"figure.figsize\"] = [10, 3.5]\n",
    "# plt.rcParams[\"figure.autolayout\"] = True\n",
    "line1 = plt.plot(nov_12, label = \"November 2012\")\n",
    "line2, = plt.plot(nov_13, label=\"November 2013\")\n",
    "line3, = plt.plot(nov_14, label=\"November 2014\")\n",
    "line4, = plt.plot(nov_15, label=\"November 2015\")\n",
    "leg = plt.legend(loc='upper left')\n",
    "plt.show()"
   ]
  },
  {
   "cell_type": "markdown",
   "id": "38d15c55-944c-45ff-974d-dd012328b8d2",
   "metadata": {},
   "source": [
    "#### Graph of average sales per day for December 2012 through 2015"
   ]
  },
  {
   "cell_type": "code",
   "execution_count": null,
   "id": "b3f9c22b-fae6-449d-a740-7907eae219c7",
   "metadata": {},
   "outputs": [],
   "source": [
    "dec_12 = timeofyear_mean_day('LiquorSalesSamplev2.csv', 'Sale (Dollars)', '12', '12')\n",
    "dec_13 = timeofyear_mean_day('LiquorSalesSamplev2.csv', 'Sale (Dollars)', '13', '12')\n",
    "dec_14 = timeofyear_mean_day('LiquorSalesSamplev2.csv', 'Sale (Dollars)', '14', '12')\n",
    "dec_15 = timeofyear_mean_day('LiquorSalesSamplev2.csv', 'Sale (Dollars)', '15', '12')\n",
    "plt.title(\"December 2012-2015 Sales\")\n",
    "plt.xlabel(\"Day of Month\")\n",
    "plt.ylabel(\"Total Dollar Amount\")\n",
    "plt.rcParams[\"figure.figsize\"] = [10, 3.5]\n",
    "# plt.rcParams[\"figure.autolayout\"] = True\n",
    "line1 = plt.plot(dec_12, label = \"December 2012\")\n",
    "line2, = plt.plot(dec_13, label=\"December 2013\")\n",
    "line3, = plt.plot(dec_14, label=\"December 2014\")\n",
    "line4, = plt.plot(dec_15, label=\"December 2015\")\n",
    "leg = plt.legend(loc='upper left')\n",
    "plt.show()"
   ]
  },
  {
   "cell_type": "markdown",
   "id": "2c754bc1-cccc-4e0a-94f6-1edd52f29b48",
   "metadata": {},
   "source": [
    "### Question 7: Are there any alcohol types that are frequently bought together?"
   ]
  },
  {
   "cell_type": "code",
   "execution_count": null,
   "id": "cfd63e42-4636-45e3-b28e-d50036f7d662",
   "metadata": {},
   "outputs": [],
   "source": [
    "data.columns = data.columns.str.replace(' ', '')\n",
    "data.County.unique()"
   ]
  },
  {
   "cell_type": "markdown",
   "id": "718b8f1b-5595-40dc-b333-172709afd249",
   "metadata": {},
   "source": [
    "#### Apriori Function: \n",
    "Loops through every county and creates a dataframe of frequent item sets with minimum support of 0.40"
   ]
  },
  {
   "cell_type": "code",
   "execution_count": null,
   "id": "64212e0e-b447-478d-bc27-2bc1c4922b51",
   "metadata": {},
   "outputs": [],
   "source": [
    "def hot_encode(x):\n",
    "    if(x<= 0):\n",
    "        return 0\n",
    "    if(x>= 1):\n",
    "        return 1  \n",
    "\n",
    "def apriori_loop(filename):\n",
    "    data = pd.read_csv(filename)\n",
    "    data.columns = data.columns.str.replace(' ', '')\n",
    "    counties = data.County.unique()\n",
    "    # print(counties)\n",
    "    for i in counties:\n",
    "        basket_0 = (data[data['County'] == i].groupby(['Invoice', 'Label'])['BottlesSold'].sum().unstack().reset_index().fillna(0).set_index('Invoice'))\n",
    "        basket_encoded0 = basket_0.applymap(hot_encode)\n",
    "        frq_items0 = apriori(basket_encoded0, min_support = 0.40, use_colnames = True)\n",
    "        # Collecting the inferred rules in a dataframe\n",
    "        rules0 = association_rules(frq_items0, metric =\"lift\", min_threshold = 1)\n",
    "        rules0 = rules0.sort_values(['confidence', 'lift'], ascending =[False, False])\n",
    "        rules0.head(20)\n",
    "    print(\"Done\")    \n",
    "    return \n",
    "\n",
    "apriori_loop(\"LiquorSalesSamplev2.csv\")"
   ]
  },
  {
   "cell_type": "markdown",
   "id": "4f771361-e6ad-49ee-8c86-07f6339dd4f9",
   "metadata": {},
   "source": [
    "#### Average Support, Lift, and Confidence Function:\n",
    "Loops through apriori function and returns the average support, lift and confidence of frequent item set pair"
   ]
  },
  {
   "cell_type": "code",
   "execution_count": null,
   "id": "7b104a54-a39e-4e55-9a03-ad2a4de2131e",
   "metadata": {},
   "outputs": [],
   "source": [
    "def avg_sup_lift_conf(filename):\n",
    "    data = pd.read_csv(filename)\n",
    "    data.columns = data.columns.str.replace(' ', '')\n",
    "    counties = data.County.unique()\n",
    "    total_ant_con = []\n",
    "    pair_counts = {}\n",
    "    pair_support = {}\n",
    "    pair_confidence = {}\n",
    "    pair_lift = {}\n",
    "    for i in counties:\n",
    "        basket_0 = (data[data['County'] == i].groupby(['Invoice', 'Label'])['BottlesSold'].sum().unstack().reset_index().fillna(0).set_index('Invoice'))\n",
    "        basket_encoded0 = basket_0.applymap(hot_encode)\n",
    "        frq_items0 = apriori(basket_encoded0, min_support = 0.40, use_colnames = True)\n",
    "        rules0 = association_rules(frq_items0, metric =\"lift\", min_threshold = 1)\n",
    "        rules0 = rules0.sort_values(['confidence', 'lift'], ascending =[False, False])\n",
    "        for index, row in rules0.iterrows():\n",
    "            antecedents = tuple(set(row.antecedents))[:]\n",
    "            consequents = tuple(set(row.consequents))[:]\n",
    "            pair = (antecedents, consequents)\n",
    "            if pair in pair_counts:\n",
    "                pair_counts[pair] += 1\n",
    "                pair_support[pair] += row.support\n",
    "                pair_confidence[pair] += row.confidence\n",
    "                pair_lift[pair] += row.lift\n",
    "            else:\n",
    "                pair_counts[pair] = 1\n",
    "                pair_support[pair] = row.support\n",
    "                pair_confidence[pair] = row.confidence\n",
    "                pair_lift[pair] = row.lift\n",
    "    sorted_pairs = sorted(pair_counts.items(), key=lambda x: x[1], reverse=True)\n",
    "    result = []\n",
    "    for pair, count in sorted_pairs:\n",
    "        avg_support = pair_support[pair] / count\n",
    "        avg_confidence = pair_confidence[pair] / count\n",
    "        avg_lift = pair_lift[pair] / count\n",
    "        result.append((pair, count, avg_support, avg_confidence, avg_lift))\n",
    "    return result\n",
    "avg_sup_lift_conf(\"LiquorSalesSamplev2.csv\")"
   ]
  },
  {
   "cell_type": "markdown",
   "id": "a579eec9-91ab-49da-b992-eaeb57040183",
   "metadata": {},
   "source": [
    "#### Frequent Item Frequency and Counties Function:\n",
    "Function that returns frequent item pairs and their counties:"
   ]
  },
  {
   "cell_type": "code",
   "execution_count": null,
   "id": "77d9b3fd-1d6e-4eec-b6b5-b60a2e65d6ef",
   "metadata": {},
   "outputs": [],
   "source": [
    "def apriori_counties(filename):\n",
    "    data = pd.read_csv(filename)\n",
    "    data.columns = data.columns.str.replace(' ', '')\n",
    "    counties = data.County.unique()\n",
    "    total_ant_con = []\n",
    "    pair_counts = {}\n",
    "    for county in counties:\n",
    "        county_data = data[data['County'] == county]\n",
    "        basket_0 = (county_data.groupby(['Invoice', 'Label'])['BottlesSold'].sum().unstack().reset_index().fillna(0).set_index('Invoice'))\n",
    "        basket_encoded0 = basket_0.applymap(hot_encode)\n",
    "        frq_items0 = apriori(basket_encoded0, min_support = 0.40, use_colnames = True)\n",
    "        rules0 = association_rules(frq_items0, metric =\"lift\", min_threshold = 1)\n",
    "        rules0 = rules0.sort_values(['confidence', 'lift'], ascending =[False, False])\n",
    "        for index, row in rules0.iterrows():\n",
    "            antecedents = tuple(set(row.antecedents))[:]\n",
    "            consequents = tuple(set(row.consequents))[:]\n",
    "            pair = (antecedents, consequents)\n",
    "            if pair in pair_counts:\n",
    "                pair_counts[pair].append(county)\n",
    "            else:\n",
    "                pair_counts[pair] = [county]\n",
    "    sorted_pairs = sorted(pair_counts.items(), key=lambda x: x[1], reverse=True)\n",
    "    final_pairs = []\n",
    "    for pair, counties in sorted_pairs:\n",
    "        final_pairs.append((pair, len(counties), counties))\n",
    "    return final_pairs\n",
    "\n",
    "  \n",
    "apriori_loop_pair_count(\"LiquorSalesSamplev2.csv\")"
   ]
  }
 ],
 "metadata": {
  "kernelspec": {
   "display_name": "Python 3 (ipykernel)",
   "language": "python",
   "name": "python3"
  },
  "language_info": {
   "codemirror_mode": {
    "name": "ipython",
    "version": 3
   },
   "file_extension": ".py",
   "mimetype": "text/x-python",
   "name": "python",
   "nbconvert_exporter": "python",
   "pygments_lexer": "ipython3",
   "version": "3.10.8"
  }
 },
 "nbformat": 4,
 "nbformat_minor": 5
}

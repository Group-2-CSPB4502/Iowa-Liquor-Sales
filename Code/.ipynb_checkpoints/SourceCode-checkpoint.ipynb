{
 "cells": [
  {
   "cell_type": "markdown",
   "id": "bbdddf70-c14a-4600-8bb4-7c885446db8d",
   "metadata": {},
   "source": [
    "# Iowa Liquor Sales Functions and Graphs"
   ]
  },
  {
   "cell_type": "markdown",
   "id": "a83e4f07-165f-4045-ab6b-777e8068780b",
   "metadata": {},
   "source": [
    "Below we have functions to analyze data regarding the purchase of spirits in the state of Iowa by commercial establishments holding a Class “E” liquor license. The original dataset (LiquorSalesSamplev2.csv) contains purchasing data from January 1, 2012 to current. Separate functions are divided up and graphed where applicable: \n",
    "1. What times of the year have liquor sales been the highest?\n",
    "2. Are there hotspots in the state where liquor sales have been higher than the average?\n",
    "3. Are there preferred liquor types in the state of Iowa?\n",
    "4. Is there a surprising/unexpected time of year when liquor sales have gone up?\n",
    "5. Are there purchase trends during holidays and college football season?\n",
    "6. Are there any alcohol types that are frequently bought together? \n"
   ]
  },
  {
   "cell_type": "markdown",
   "id": "e3fa91f7-c424-4c18-991f-7891113cb8f9",
   "metadata": {},
   "source": [
    "Libraries used:"
   ]
  },
  {
   "cell_type": "code",
   "execution_count": null,
   "id": "9513a22d-591c-4439-9c44-b65f9a96977e",
   "metadata": {},
   "outputs": [],
   "source": [
    "import numpy as np\n",
    "import pandas as pd\n",
    "import mlxtend\n",
    "from mlxtend.frequent_patterns import apriori, association_rules\n",
    "import numpy as np\n",
    "import matplotlib.pyplot as plt\n",
    "import csv"
   ]
  },
  {
   "cell_type": "markdown",
   "id": "80e6c4b7-6336-477e-bffe-71db845512cf",
   "metadata": {},
   "source": [
    "Reading data, row count and splitting up the date for graphing by specific dates:"
   ]
  },
  {
   "cell_type": "code",
   "execution_count": null,
   "id": "3ac24713-f86a-4148-ab6c-83912977dc66",
   "metadata": {},
   "outputs": [],
   "source": [
    "data = pd.read_csv(\"LiquorSalesSamplev2.csv\")\n",
    "data.head(10)\n",
    "print(\"Number of lines present: \", len(data))\n"
   ]
  },
  {
   "cell_type": "code",
   "execution_count": null,
   "id": "b532e2fa-0256-48ca-b70a-8502757f512d",
   "metadata": {},
   "outputs": [],
   "source": [
    "data[['Month', 'Day', 'Year']] = data['Date'].str.split('/', expand = True)\n",
    "data.head()"
   ]
  },
  {
   "cell_type": "markdown",
   "id": "6fae2010-8b75-46a4-97a9-ee4d7eb880b5",
   "metadata": {},
   "source": [
    "### Question 1: What times of the year have liquor sales been the highest?"
   ]
  },
  {
   "cell_type": "markdown",
   "id": "ed58d1a2-abcc-4eec-91ef-036a3b01657f",
   "metadata": {},
   "source": [
    "#### Function to get mean of liquor sales per month and year:"
   ]
  },
  {
   "cell_type": "code",
   "execution_count": null,
   "id": "267e3d47-d41e-4cf9-bfc6-2f50e8f3b07e",
   "metadata": {},
   "outputs": [],
   "source": [
    "def timeofyear_sum(filename, Time, Sales, year): \n",
    "    data = pd.read_csv(filename) \n",
    "    data[['Month', 'Day', 'Year']] = data['Date'].str.split('/', expand=True) \n",
    "    data['Month'] = pd.to_numeric(data['Month']) \n",
    "    data = data[data['Year'] == year]\n",
    "    data = data.sort_values(by='Month') \n",
    "    data = data.groupby(data[Time]) \n",
    "    mean_of_col = data[Sales].sum() \n",
    "    print(mean_of_col)\n",
    "    return mean_of_col "
   ]
  },
  {
   "cell_type": "markdown",
   "id": "519d12dd-7685-43a7-9959-883f5202aa78",
   "metadata": {},
   "source": [
    "#### Average mean of every month in 2012:"
   ]
  },
  {
   "cell_type": "code",
   "execution_count": null,
   "id": "87133d0e-e4e3-4f09-8da3-55cce85c9e99",
   "metadata": {},
   "outputs": [],
   "source": [
    "year_2012 = timeofyear_sum('LiquorSalesSamplev2.csv', 'Month', 'Sale (Dollars)', '12')\n",
    "year_2012.plot();\n",
    "year_2012.sort_values()"
   ]
  },
  {
   "cell_type": "markdown",
   "id": "7164c984-8d64-41bd-82f5-a2f6d287cf8e",
   "metadata": {},
   "source": [
    "#### Average mean of every month in 2013:"
   ]
  },
  {
   "cell_type": "code",
   "execution_count": null,
   "id": "f628f4bb-319a-4dba-9b0a-614aa002691b",
   "metadata": {},
   "outputs": [],
   "source": [
    "year_2013 = timeofyear_sum('LiquorSalesSamplev2.csv', 'Month', 'Sale (Dollars)', '13')\n",
    "year_2013.plot();\n",
    "year_2013.sort_values()"
   ]
  },
  {
   "cell_type": "markdown",
   "id": "b3ae7780-073e-4b0b-85fe-a7d6b6c08c4b",
   "metadata": {},
   "source": [
    "#### Average mean of every month in 2014:"
   ]
  },
  {
   "cell_type": "code",
   "execution_count": null,
   "id": "845b702e-9a98-490c-ac42-0c2a0806f063",
   "metadata": {},
   "outputs": [],
   "source": [
    "year_2014 = timeofyear_sum('LiquorSalesSamplev2.csv', 'Month', 'Sale (Dollars)', '14')\n",
    "year_2014.plot();\n",
    "year_2014.sort_values()"
   ]
  },
  {
   "cell_type": "markdown",
   "id": "67323bdb-4e1b-4da9-bbb5-fadcf4e46a10",
   "metadata": {},
   "source": [
    "#### Average mean of every month in 2015:"
   ]
  },
  {
   "cell_type": "code",
   "execution_count": null,
   "id": "5d45119b-41b5-46b6-9926-242f9df3f601",
   "metadata": {},
   "outputs": [],
   "source": [
    "year_2015 = timeofyear_sum('LiquorSalesSamplev2.csv', 'Month', 'Sale (Dollars)', '15')\n",
    "year_2015.plot();\n",
    "year_2015.sort_values()"
   ]
  },
  {
   "cell_type": "markdown",
   "id": "50255f48-4002-43a6-972f-3f58a672e516",
   "metadata": {},
   "source": [
    "### Question 2: Are there hotspots in the state where liquor sales have been higher than the average?"
   ]
  },
  {
   "cell_type": "markdown",
   "id": "599fffe0-c290-4ba8-b493-c0210881d54d",
   "metadata": {},
   "source": [
    "#### Function to get total liquor sales by county:"
   ]
  },
  {
   "cell_type": "code",
   "execution_count": null,
   "id": "7e30e0bf-9ed4-4f97-9f3b-47859ddfc559",
   "metadata": {},
   "outputs": [],
   "source": [
    "def location_sum(filename, County, Sales):\n",
    "    data = pd.read_csv(filename)\n",
    "    data[['Month', 'Day', 'Year']] = data['Date'].str.split('/', expand = True)\n",
    "    data = data.groupby(data[County])\n",
    "    sum_of_col = data[Sales].sum() \n",
    "    return sum_of_col.sort_values()"
   ]
  },
  {
   "cell_type": "markdown",
   "id": "c12488e0-e789-4841-8362-1be686eba476",
   "metadata": {},
   "source": [
    "#### Function to get average liquor sales by county:"
   ]
  },
  {
   "cell_type": "code",
   "execution_count": null,
   "id": "6d4dc4f6-44aa-41e8-a979-4fb87552fc3e",
   "metadata": {},
   "outputs": [],
   "source": [
    "def location_mean(filename, County, Sales):\n",
    "    data = pd.read_csv(filename)\n",
    "    data[['Month', 'Day', 'Year']] = data['Date'].str.split('/', expand = True)\n",
    "    data = data.groupby(data[County])\n",
    "    mean_of_col = data[Sales].sum().mean() \n",
    "    return mean_of_col"
   ]
  },
  {
   "cell_type": "markdown",
   "id": "db7eaf4d-e80d-4d54-8309-fb57b867ff88",
   "metadata": {},
   "source": [
    "#### Total average liquor sales for counties and cities:"
   ]
  },
  {
   "cell_type": "code",
   "execution_count": null,
   "id": "174d9dc2-f158-4089-b360-cd230dfb931c",
   "metadata": {},
   "outputs": [],
   "source": [
    "county_mean = location_mean('LiquorSalesSamplev2.csv', 'County', 'Sale (Dollars)')\n",
    "city_mean = location_mean('LiquorSalesSamplev2.csv', 'City', 'Sale (Dollars)')\n",
    "\n",
    "print(county_mean)\n",
    "print(city_mean)"
   ]
  },
  {
   "cell_type": "markdown",
   "id": "a36f74c4-5773-4819-879e-e058ce51a89d",
   "metadata": {},
   "source": [
    "#### Total sales per county (graph of highest sales counties):"
   ]
  },
  {
   "cell_type": "code",
   "execution_count": null,
   "id": "b475bb8e-690f-43be-8c55-e886844cf319",
   "metadata": {},
   "outputs": [],
   "source": [
    "county_sales = location_sum('LiquorSales.csv', 'County', 'Sale (Dollars)')\n",
    "print(county_sales)\n",
    "county_sales.nlargest(5).plot(kind='barh');\n",
    "for index, value in enumerate(county_sales.nlargest(5)): \n",
    "    plt.text(value, index,str(value))\n",
    "plt.axvline(county_mean, color='red');\n",
    "plt.xticks(rotation=45);\n",
    "plt.xlabel('Total Sales in Millions');\n",
    "plt.title('Total Sales per County');"
   ]
  },
  {
   "cell_type": "markdown",
   "id": "fb3e4060-13d2-4b0b-a3e5-2ac5c68b82d5",
   "metadata": {},
   "source": [
    "#### Total sales per city (graph of highest sales cities):"
   ]
  },
  {
   "cell_type": "code",
   "execution_count": null,
   "id": "4329dfa0-c8da-40be-b784-605162a22cbf",
   "metadata": {},
   "outputs": [],
   "source": [
    "city_sales = location_sum('LiquorSales.csv', 'City', 'Sale (Dollars)')\n",
    "print(city_sales)\n",
    "city_sales.nlargest(5).plot(kind='barh');\n",
    "for index, value in enumerate(city_sales.nlargest(5)): \n",
    "    plt.text(value, index,str(value))\n",
    "plt.axvline(city_mean, color='red');\n",
    "plt.xticks(rotation=45);\n",
    "plt.xlabel('Total Sales in Millions');\n",
    "plt.title('Total Sales per City');"
   ]
  }
 ],
 "metadata": {
  "kernelspec": {
   "display_name": "Python 3 (ipykernel)",
   "language": "python",
   "name": "python3"
  },
  "language_info": {
   "codemirror_mode": {
    "name": "ipython",
    "version": 3
   },
   "file_extension": ".py",
   "mimetype": "text/x-python",
   "name": "python",
   "nbconvert_exporter": "python",
   "pygments_lexer": "ipython3",
   "version": "3.10.8"
  }
 },
 "nbformat": 4,
 "nbformat_minor": 5
}

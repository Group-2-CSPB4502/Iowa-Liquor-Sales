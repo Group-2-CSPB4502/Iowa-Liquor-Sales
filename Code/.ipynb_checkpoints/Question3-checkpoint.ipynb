{
 "cells": [
  {
   "cell_type": "code",
   "execution_count": 3,
   "id": "11d88656-1372-4eac-8251-cb8d68531958",
   "metadata": {},
   "outputs": [],
   "source": [
    "import numpy as np\n",
    "import pandas as pd\n",
    "import mlxtend\n",
    "from mlxtend.frequent_patterns import apriori, association_rules\n",
    "import numpy as np\n",
    "import matplotlib.pyplot as plt\n",
    "import csv\n",
    "\n",
    "data = pd.read_csv(\"LiquorSalesSamplev2.csv\")"
   ]
  },
  {
   "cell_type": "code",
   "execution_count": 4,
   "id": "67a6ce64-0864-42d5-a505-95809f954172",
   "metadata": {},
   "outputs": [
    {
     "name": "stdout",
     "output_type": "stream",
     "text": [
      "Label\n",
      "High Proof Beer             2\n",
      "Novelty                  3928\n",
      "Scotch                   8698\n",
      "Other Grain Alcohol      9035\n",
      "Cream Based Liqueur     23980\n",
      "Pre-Mixed Cocktails     29766\n",
      "Gin                     40627\n",
      "Tequila                 43743\n",
      "Brandy                  53845\n",
      "Bourbon                 56701\n",
      "Schnapps                59490\n",
      "Liqueur                101368\n",
      "Rum                    125322\n",
      "Whiskey                192711\n",
      "Vodka                  255164\n",
      "Name: Reference, dtype: int64\n"
     ]
    }
   ],
   "source": [
    "# Q3:  Are there preferred liquor types in the state of Iowa?\n",
    "\n",
    "def preferred_type(filename, Liquor):\n",
    "    data = pd.read_csv(filename)\n",
    "    data = data.groupby(data[Liquor])['Reference'].count()\n",
    "    return data.sort_values()\n",
    "\n",
    "\n",
    "def preferred_type_byLoc(filename, Liquor, Location):\n",
    "    data = pd.read_csv(filename)\n",
    "    data = data.groupby([Location, Liquor])['Reference'].count()\n",
    "    return data\n",
    "\n",
    "    \n",
    "print(preferred_type('LiquorSalesSamplev2.csv', 'Label'))"
   ]
  },
  {
   "cell_type": "code",
   "execution_count": null,
   "id": "7d67d63c-34fb-4536-a228-d1ad4e09c6bc",
   "metadata": {},
   "outputs": [],
   "source": []
  }
 ],
 "metadata": {
  "kernelspec": {
   "display_name": "Python 3 (ipykernel)",
   "language": "python",
   "name": "python3"
  },
  "language_info": {
   "codemirror_mode": {
    "name": "ipython",
    "version": 3
   },
   "file_extension": ".py",
   "mimetype": "text/x-python",
   "name": "python",
   "nbconvert_exporter": "python",
   "pygments_lexer": "ipython3",
   "version": "3.10.8"
  }
 },
 "nbformat": 4,
 "nbformat_minor": 5
}
